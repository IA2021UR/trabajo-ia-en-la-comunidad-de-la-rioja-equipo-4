{
  "nbformat": 4,
  "nbformat_minor": 0,
  "metadata": {
    "colab": {
      "name": "comparacion_modelos.ipynb",
      "provenance": [],
      "authorship_tag": "ABX9TyOoVPIB8zDC2kRiknliJb2N",
      "include_colab_link": true
    },
    "kernelspec": {
      "name": "python3",
      "display_name": "Python 3"
    },
    "language_info": {
      "name": "python"
    }
  },
  "cells": [
    {
      "cell_type": "markdown",
      "metadata": {
        "id": "view-in-github",
        "colab_type": "text"
      },
      "source": [
        "<a href=\"https://colab.research.google.com/github/IA2021UR/trabajo-ia-en-la-comunidad-de-la-rioja-equipo-4/blob/main/comparacion_modelos.ipynb\" target=\"_parent\"><img src=\"https://colab.research.google.com/assets/colab-badge.svg\" alt=\"Open In Colab\"/></a>"
      ]
    },
    {
      "cell_type": "markdown",
      "metadata": {
        "id": "zCFNi6LWr8qr"
      },
      "source": [
        "Comparativa de modelos\n"
      ]
    },
    {
      "cell_type": "markdown",
      "metadata": {
        "id": "yWOcAl4IsLG1"
      },
      "source": [
        "# GAN"
      ]
    },
    {
      "cell_type": "markdown",
      "metadata": {
        "id": "Aj6rMnkVsjCz"
      },
      "source": [
        "## Grey to RGB"
      ]
    },
    {
      "cell_type": "markdown",
      "metadata": {
        "id": "75T2Wx9Hsq2I"
      },
      "source": [
        "### Discriminator"
      ]
    },
    {
      "cell_type": "code",
      "metadata": {
        "id": "jISpG2rmswD8"
      },
      "source": [
        "def build_grey_discriminator():\n",
        "  input_shape = (256,256, 2)\n",
        "  model = Sequential()\n",
        "  model.add(Conv2D(256, kernel_size=(5,5), strides=(2,2), padding=\"same\" ,input_shape=input_shape))\n",
        "  model.add(LeakyReLU())\n",
        "  model.add(Dropout(0.3))\n",
        "  model.add(Conv2D(128, kernel_size=(5,5), strides=(2,2), padding=\"same\"))\n",
        "  model.add(LeakyReLU())\n",
        "  model.add(Dropout(0.3))\n",
        "  model.add(Flatten())\n",
        "  model.add(Dense(1, activation=\"sigmoid\"))\n",
        "  return model\n",
        "\n",
        "def compile_grey_discriminator(model):\n",
        "  opt = Adam(lr=.0008, beta_1=0.9)\n",
        "  #model.compile(loss='binary_crossentropy', optimizer=opt, metrics=['accuracy'])\n",
        "  model.compile(optimizer='rmsprop',loss='mse', metrics=['accuracy'])\n",
        "  model.trainable = True\n",
        "  return model\n",
        "\n",
        "def save_grey_discriminator(model):\n",
        "  model.save('grey_discriminator.h5', overwrite=True)\n",
        "\n",
        "def load_grey_discriminator():\n",
        "  return models.load_model('grey_discriminator.h5')"
      ],
      "execution_count": null,
      "outputs": []
    },
    {
      "cell_type": "markdown",
      "metadata": {
        "id": "nqJ8JC1HtfiQ"
      },
      "source": [
        "### Generator"
      ]
    },
    {
      "cell_type": "code",
      "metadata": {
        "id": "FQupBUXVuCJ0"
      },
      "source": [
        "def build_grey_generator():\n",
        "  g_input_shape = (256,256, 1)\n",
        "  g_input = Input(shape=g_input_shape)\n",
        "\n",
        "  conv1 = Conv2D(64, (3, 3), padding='same', strides=2)(g_input)\n",
        "  conv1 = BatchNormalization()(conv1)\n",
        "  conv1 = Activation('relu')(conv1)\n",
        "\n",
        "  conv2 = Conv2D(128, (3, 3), padding='same', strides=1)(conv1)\n",
        "  conv2 = BatchNormalization()(conv2)\n",
        "  conv2 = Activation('relu')(conv2)\n",
        "\n",
        "  conv3 = Conv2D(256, (3, 3), padding='same', strides=2)(conv2)\n",
        "  conv3 = BatchNormalization()(conv3)\n",
        "  conv3 = Activation('relu')(conv3)\n",
        "\n",
        "  conv4 = Conv2D(512, (3, 3), padding='same', strides=1)(conv3)\n",
        "  conv4 = BatchNormalization()(conv4)\n",
        "  conv4 = Activation('relu')(conv4)\n",
        "\n",
        "  conv5 = Conv2D(512, (3, 3), padding='same', strides=2)(conv4)\n",
        "  conv5 = BatchNormalization()(conv5)\n",
        "  conv5 = Activation('relu')(conv5)\n",
        "\n",
        "  conv7 = UpSampling2D(size=(2, 2))(conv5)\n",
        "  conv7 = Conv2D(512, (3, 3), padding='same')(conv7)\n",
        "  conv7 = BatchNormalization()(conv7)\n",
        "  conv7 = Activation('relu')(conv7)\n",
        "  conv7 = Concatenate(axis=-1)([conv7,conv4])\n",
        "\n",
        "  conv8 = Conv2D(512, (3, 3), padding='same')(conv7)\n",
        "  conv8 = BatchNormalization()(conv8)\n",
        "  conv8 = Activation('relu')(conv8)\n",
        "\n",
        "  up2 = UpSampling2D(size=(2, 2))(conv8)\n",
        "  conv9 = Conv2D(256, (3,3), padding='same')(up2)\n",
        "  conv9 = BatchNormalization()(conv9)\n",
        "  conv9 = Activation('relu')(conv9)\n",
        "  conv9 = Concatenate(axis=-1)([conv9,conv2])\n",
        "\n",
        "  conv10 = Conv2D(256, (3, 3), padding='same')(conv9)\n",
        "  conv10 = BatchNormalization()(conv10)\n",
        "  conv10 = Activation('relu')(conv10)\n",
        "\n",
        "  up3 = UpSampling2D(size=(2, 2))(conv10)\n",
        "  conv11 = Conv2D(313, (1,1), padding='same')(up3)\n",
        "  conv11 = BatchNormalization()(conv11)\n",
        "  conv11 = Activation('relu')(conv11)\n",
        "\n",
        "  conv12 = Conv2D(2, (1, 1), padding='same')(conv11)\n",
        "  conv12 = Activation('tanh')(conv12)\n",
        "\n",
        "  return Model(inputs=g_input,outputs=conv12)\n",
        "\n",
        "def compile_grey_generator(model):\n",
        "  opt = Adam(lr=.0001, beta_1=0.7)\n",
        "  model.compile(loss='binary_crossentropy', optimizer=opt, metrics=['accuracy'])\n",
        "  return model\n",
        "\n",
        "def save_grey_generator(model):\n",
        "  model.save('grey_generator.h5', overwrite=True)\n",
        "\n",
        "def load_grey_generator():\n",
        "  return models.load_model('grey_generator.h5')\n",
        "\n"
      ],
      "execution_count": null,
      "outputs": []
    },
    {
      "cell_type": "markdown",
      "metadata": {
        "id": "BkhrCj3Ut-f-"
      },
      "source": [
        "### Generator UNET"
      ]
    },
    {
      "cell_type": "code",
      "metadata": {
        "id": "gROVu6pWuQ3f"
      },
      "source": [
        "def build_grey_unet():\n",
        "  inputs = Input((128, 128,1))\n",
        "  conv1 = Conv2D(64, 3, activation = 'relu', padding = 'same', kernel_initializer = 'he_normal')(inputs)\n",
        "  conv1 = Conv2D(64, 3, activation = 'relu', padding = 'same', kernel_initializer = 'he_normal')(conv1)\n",
        "  pool1 = MaxPool2D(pool_size=(2, 2))(conv1)\n",
        "\n",
        "  conv2 = Conv2D(128, 3, activation = 'relu', padding = 'same', kernel_initializer = 'he_normal')(pool1)\n",
        "  conv2 = Conv2D(128, 3, activation = 'relu', padding = 'same', kernel_initializer = 'he_normal')(conv2)\n",
        "  pool2 = MaxPool2D(pool_size=(2, 2))(conv2)\n",
        "\n",
        "  conv3 = Conv2D(256, 3, activation = 'relu', padding = 'same', kernel_initializer = 'he_normal')(pool2)\n",
        "  conv3 = Conv2D(256, 3, activation = 'relu', padding = 'same', kernel_initializer = 'he_normal')(conv3)\n",
        "  pool3 = MaxPool2D(pool_size=(2, 2))(conv3)\n",
        "\n",
        "  conv4 = Conv2D(512, 3, activation = 'relu', padding = 'same', kernel_initializer = 'he_normal')(pool3)\n",
        "  conv4 = Conv2D(512, 3, activation = 'relu', padding = 'same', kernel_initializer = 'he_normal')(conv4)\n",
        "  drop4 = Dropout(0.5)(conv4)\n",
        "  pool4 = MaxPool2D(pool_size=(2, 2))(drop4)\n",
        "\n",
        "  conv5 = Conv2D(1024, 3, activation = 'relu', padding = 'same', kernel_initializer = 'he_normal')(pool4)\n",
        "  conv5 = Conv2D(1024, 3, activation = 'relu', padding = 'same', kernel_initializer = 'he_normal')(conv5)\n",
        "  drop5 = Dropout(0.5)(conv5)\n",
        "\n",
        "  up6 = Conv2D(512, 2, activation = 'relu', padding = 'same', kernel_initializer = 'he_normal')(UpSampling2D(size = (2,2))(drop5))\n",
        "  merge6 = concatenate([drop4,up6], axis = 3)\n",
        "  conv6 = Conv2D(512, 3, activation = 'relu', padding = 'same', kernel_initializer = 'he_normal')(merge6)\n",
        "  conv6 = Conv2D(512, 3, activation = 'relu', padding = 'same', kernel_initializer = 'he_normal')(conv6)\n",
        "\n",
        "  up7 = Conv2D(256, 2, activation = 'relu', padding = 'same', kernel_initializer = 'he_normal')(UpSampling2D(size = (2,2))(conv6))\n",
        "  merge7 = concatenate([conv3,up7], axis = 3)\n",
        "  conv7 = Conv2D(256, 3, activation = 'relu', padding = 'same', kernel_initializer = 'he_normal')(merge7)\n",
        "  conv7 = Conv2D(256, 3, activation = 'relu', padding = 'same', kernel_initializer = 'he_normal')(conv7)\n",
        "\n",
        "  up8 = Conv2D(128, 2, activation = 'relu', padding = 'same', kernel_initializer = 'he_normal')(UpSampling2D(size = (2,2))(conv7))\n",
        "  merge8 = concatenate([conv2,up8], axis = 3)\n",
        "  conv8 = Conv2D(128, 3, activation = 'relu', padding = 'same', kernel_initializer = 'he_normal')(merge8)\n",
        "  conv8 = Conv2D(128, 3, activation = 'relu', padding = 'same', kernel_initializer = 'he_normal')(conv8)\n",
        "\n",
        "  up9 = Conv2D(64, 2, activation = 'relu', padding = 'same', kernel_initializer = 'he_normal')(UpSampling2D(size = (2,2))(conv8))\n",
        "  merge9 = concatenate([conv1,up9], axis = 3)\n",
        "  conv9 = Conv2D(64, 3, activation = 'relu', padding = 'same', kernel_initializer = 'he_normal')(merge9)\n",
        "  conv9 = Conv2D(64, 3, activation = 'relu', padding = 'same', kernel_initializer = 'he_normal')(conv9)\n",
        "  conv9 = Conv2D(2, 3, activation = 'relu', padding = 'same', kernel_initializer = 'he_normal')(conv9)\n",
        "  conv10 = Conv2D(2, 1, activation = 'tanh')(conv9)\n",
        "\n",
        "  model = Model(inputs,conv10)\n",
        "  return model\n",
        "\n",
        "def compile_grey_unet(model):\n",
        "  opt = Adam(lr=.002)\n",
        "  #model.compile(loss='binary_crossentropy', optimizer=opt, metrics=['accuracy'])\n",
        "  model.compile(optimizer='rmsprop',loss='mse', metrics=['accuracy'])\n",
        "  return model\n",
        "\n",
        "def save_grey_unet(model):\n",
        "  model.save('grey_unet.h5', overwrite=True)\n",
        "\n",
        "def load_grey_unet():\n",
        "  return models.load_model('grey_unet.h5')\n"
      ],
      "execution_count": null,
      "outputs": []
    },
    {
      "cell_type": "markdown",
      "metadata": {
        "id": "jTGz_Utvtg49"
      },
      "source": [
        "### Train"
      ]
    },
    {
      "cell_type": "markdown",
      "metadata": {
        "id": "P8ZKD-IUtiKB"
      },
      "source": [
        "### Test"
      ]
    },
    {
      "cell_type": "markdown",
      "metadata": {
        "id": "-PNqOG8rsnpi"
      },
      "source": [
        "## L to LAB"
      ]
    },
    {
      "cell_type": "code",
      "metadata": {
        "id": "Boq52Jg8sg9Q"
      },
      "source": [
        ""
      ],
      "execution_count": null,
      "outputs": []
    },
    {
      "cell_type": "code",
      "metadata": {
        "id": "VFCZ8dQyrsVu"
      },
      "source": [
        ""
      ],
      "execution_count": null,
      "outputs": []
    },
    {
      "cell_type": "markdown",
      "metadata": {
        "id": "tatkcGKnsMRG"
      },
      "source": [
        "# No GAN"
      ]
    }
  ]
}