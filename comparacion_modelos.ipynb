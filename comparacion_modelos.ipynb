{
  "nbformat": 4,
  "nbformat_minor": 0,
  "metadata": {
    "colab": {
      "name": "comparacion_modelos.ipynb",
      "provenance": [],
      "authorship_tag": "ABX9TyOvldw8JXLiatWlJu/ZA52C",
      "include_colab_link": true
    },
    "kernelspec": {
      "name": "python3",
      "display_name": "Python 3"
    },
    "language_info": {
      "name": "python"
    }
  },
  "cells": [
    {
      "cell_type": "markdown",
      "metadata": {
        "id": "view-in-github",
        "colab_type": "text"
      },
      "source": [
        "<a href=\"https://colab.research.google.com/github/IA2021UR/trabajo-ia-en-la-comunidad-de-la-rioja-equipo-4/blob/main/comparacion_modelos.ipynb\" target=\"_parent\"><img src=\"https://colab.research.google.com/assets/colab-badge.svg\" alt=\"Open In Colab\"/></a>"
      ]
    },
    {
      "cell_type": "markdown",
      "metadata": {
        "id": "zCFNi6LWr8qr"
      },
      "source": [
        "Comparativa de modelos\n"
      ]
    },
    {
      "cell_type": "markdown",
      "metadata": {
        "id": "yWOcAl4IsLG1"
      },
      "source": [
        "# GAN"
      ]
    },
    {
      "cell_type": "markdown",
      "metadata": {
        "id": "Aj6rMnkVsjCz"
      },
      "source": [
        "## Grey to RGB"
      ]
    },
    {
      "cell_type": "markdown",
      "metadata": {
        "id": "75T2Wx9Hsq2I"
      },
      "source": [
        "### Discriminator"
      ]
    },
    {
      "cell_type": "code",
      "metadata": {
        "id": "jISpG2rmswD8"
      },
      "source": [
        "def build_grey_discriminator():\n",
        "  input_shape = (256,256, 2)\n",
        "  model = Sequential()\n",
        "  model.add(Conv2D(256, kernel_size=(5,5), strides=(2,2), padding=\"same\" ,input_shape=input_shape))\n",
        "  model.add(LeakyReLU())\n",
        "  model.add(Dropout(0.3))\n",
        "  model.add(Conv2D(128, kernel_size=(5,5), strides=(2,2), padding=\"same\"))\n",
        "  model.add(LeakyReLU())\n",
        "  model.add(Dropout(0.3))\n",
        "  model.add(Flatten())\n",
        "  model.add(Dense(1, activation=\"sigmoid\"))\n",
        "  return model\n",
        "\n",
        "def compile_grey_discriminator(model):\n",
        "  opt = Adam(lr=.0008, beta_1=0.9)\n",
        "  #model.compile(loss='binary_crossentropy', optimizer=opt, metrics=['accuracy'])\n",
        "  model.compile(optimizer='rmsprop',loss='mse', metrics=['accuracy'])\n",
        "  model.trainable = True\n",
        "  return model\n",
        "\n",
        "def save_grey_discriminator(model):\n",
        "  model.save('grey_discriminator.h5', overwrite=True)\n",
        "\n",
        "def load_grey_discriminator():\n",
        "  return models.load_model('grey_discriminator.h5')"
      ],
      "execution_count": null,
      "outputs": []
    },
    {
      "cell_type": "markdown",
      "metadata": {
        "id": "-PNqOG8rsnpi"
      },
      "source": [
        "## L to LAB"
      ]
    },
    {
      "cell_type": "code",
      "metadata": {
        "id": "Boq52Jg8sg9Q"
      },
      "source": [
        ""
      ],
      "execution_count": null,
      "outputs": []
    },
    {
      "cell_type": "code",
      "metadata": {
        "id": "VFCZ8dQyrsVu"
      },
      "source": [
        ""
      ],
      "execution_count": null,
      "outputs": []
    },
    {
      "cell_type": "markdown",
      "metadata": {
        "id": "tatkcGKnsMRG"
      },
      "source": [
        "# No GAN"
      ]
    }
  ]
}